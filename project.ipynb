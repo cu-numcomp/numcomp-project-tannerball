{
 "cells": [
  {
   "cell_type": "markdown",
   "metadata": {},
   "source": [
    "# Project: **Polynomial Regression** in **Real Estate Prediction**\n",
    "\n",
    "# Name: Tanner Ball\n",
    "\n",
    "This notebook is a blank slate for you to write in.  Feel free to include figures (don't forget to add/commit them to your repository) and examples.  You can change the kernel (from `Python 3`; see upper right) if the open source project you're writing about does not use Python.  You can write from the prompts below or delete all the cells and start fresh.  Note that Git will always contain your history."
   ]
  },
  {
   "cell_type": "markdown",
   "metadata": {},
   "source": [
    "\n",
    "## About the method\n",
    "\n",
    "How does the method relate to concepts we've covered in class. You're writing for your fellow classmates so try to make it understandable to them. Why is the method used in this context? Can you explain why it's preferred over some alternative in this context?\n",
    "\n",
    "We have been studying various regression techniques in class, including polynomial regression. Polynomial regression is used to try and fit a non-linear relationship using the least squares method. In the software of interest, the method is used to model the relationship between the predicted price and the actual listed price of Amsterdam real estate. The method is not preferred over other regression techniques, as the software models this relationship with multiple methods.\n",
    "\n",
    "### Questions you have about the method\n",
    "\n",
    "* In this study, polynomial regression had the third highest 'score' as determined by the contributor. What makes polynomial regression a better technique than other methods like Neural Network MLP or KNN regression? What makes it worse than Random Forest and XGBoost Regression?\n",
    "\n",
    "## About the software\n",
    "\n",
    "Link to the repository. What does the software package do (at a high level)? Who develops it? Who uses it? What language is it written in and what language(s) can it be called from? If there are figures of its architecture, use, or products (e.g., from the docs), you're welcome to include them here. \n",
    "\n",
    "Repository: https://github.com/MBKraus/Predicting_real_estate_prices_using_scikit-learn\n",
    "\n",
    "The software package is a simple study of different regression algorithms on a sample of Amsterdam real estate data. The study was done by GitHub user MBKraus, who appears to work for Vantage AI, a data science consultancy firm based out of The Netherlands. The software is written in Python, using the packages MatPlotLib, Pandas, Numpy, and Scikit-Learn. The following is the results of the polynomial regression: \n",
    "\n",
    "![](https://github.com/MBKraus/Predicting_real_estate_prices_using_scikit-learn/blob/master/Poly.png?raw=true)\n",
    "\n",
    "\n",
    "## Method as it appears in the software\n",
    "\n",
    "What role does the method play in the software? How does one call it (perhaps via a higher level interface that uses the method)? Are there particular performance concerns that went into its use? How expensive is it? Can you express performance in terms that are relevant to a user? How about accuracy, conditioning, or stability in the chosen formulation?\n",
    "\n",
    "The method is one of many regression techniques being applied to the sample of data. The method is called in the Models.py file, where the code sets up the necessary parameters before calling the model function. The performance concerns, as well as those of cost, conditioning, and stability, are unclear.\n",
    "\n",
    "### Open questions"
   ]
  },
  {
   "cell_type": "code",
   "execution_count": null,
   "metadata": {},
   "outputs": [],
   "source": []
  }
 ],
 "metadata": {
  "kernelspec": {
   "display_name": "Python 3",
   "language": "python",
   "name": "python3"
  },
  "language_info": {
   "codemirror_mode": {
    "name": "ipython",
    "version": 3
   },
   "file_extension": ".py",
   "mimetype": "text/x-python",
   "name": "python",
   "nbconvert_exporter": "python",
   "pygments_lexer": "ipython3",
   "version": "3.7.3"
  }
 },
 "nbformat": 4,
 "nbformat_minor": 4
}
